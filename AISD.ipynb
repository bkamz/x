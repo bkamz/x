{
 "cells": [
  {
   "cell_type": "code",
   "execution_count": 4,
   "metadata": {
    "collapsed": true
   },
   "outputs": [],
   "source": [
    "from time import clock\n",
    "import matplotlib.pyplot as plt\n",
    "import random"
   ]
  },
  {
   "cell_type": "code",
   "execution_count": 5,
   "metadata": {
    "collapsed": true
   },
   "outputs": [],
   "source": [
    "#GENEROWANIE DANYCH\n",
    "data = []\n",
    "for value in range(1000,6001,1000):\n",
    "    data.append(random.sample(range(1, value + 1), value))"
   ]
  },
  {
   "cell_type": "code",
   "execution_count": 6,
   "metadata": {
    "collapsed": true
   },
   "outputs": [],
   "source": [
    "A = []\n",
    "B = []"
   ]
  },
  {
   "cell_type": "code",
   "execution_count": 7,
   "metadata": {
    "collapsed": true
   },
   "outputs": [],
   "source": [
    "#PRZESZUKIWANIE TABLICY PO INDEKSACH\n",
    "def arraysearch(scan, array):\n",
    "    i = 0\n",
    "    while scan != array[i]:\n",
    "        i += 1\n",
    "    return i"
   ]
  },
  {
   "cell_type": "code",
   "execution_count": 8,
   "metadata": {
    "collapsed": true
   },
   "outputs": [],
   "source": [
    "def quickSortMiddle(data):\n",
    "#quick z pivotem na środku\n",
    "    less=[]\n",
    "    greater=[]\n",
    "    if len(data) < 2:\n",
    "        return data\n",
    "    else:\n",
    "        pivot = data[len(data)//2]\n",
    "        \n",
    "        for value in data[:data.index(pivot)]:\n",
    "            if value <= pivot:\n",
    "                less.append(value)\n",
    "            else:\n",
    "                greater.append(value)\n",
    "                \n",
    "        for value in data[data.index(pivot)+1:]:\n",
    "            if value <= pivot:\n",
    "                less.append(value)\n",
    "            else:\n",
    "                greater.append(value)        \n",
    "        \n",
    "        return quickSortMiddle(less) + [pivot] + quickSortMiddle(greater)"
   ]
  },
  {
   "cell_type": "code",
   "execution_count": 9,
   "metadata": {
    "collapsed": true
   },
   "outputs": [],
   "source": [
    "#KOPIOWANIE I SORTOWANIE TABLICY\n",
    "def coppyArray(array_to_copy):\n",
    "    B = array_to_copy*1\n",
    "    quickSortMiddle(B)\n",
    "    return B"
   ]
  },
  {
   "cell_type": "code",
   "execution_count": 10,
   "metadata": {
    "collapsed": true
   },
   "outputs": [],
   "source": [
    "#PRZESZUKIWANIE BINARNE\n",
    "def binarySearch(scan, array):\n",
    "    left = 0\n",
    "    right = len(array)\n",
    "    middle = right // 2\n",
    "    while scan != array[middle]:\n",
    "        middle = (left + right) // 2\n",
    "        if scan > array[middle]:\n",
    "            left = middle\n",
    "        elif scan < array[middle]:\n",
    "            right = middle\n",
    "    return middle"
   ]
  },
  {
   "cell_type": "code",
   "execution_count": 11,
   "metadata": {
    "collapsed": true
   },
   "outputs": [],
   "source": [
    "#LISTA\n",
    "        \n",
    "class Lista:\n",
    "\n",
    "    class Element:\n",
    "        def __init__(self, initdata):\n",
    "            self.data = initdata\n",
    "            self.next = None\n",
    "        def getData(self):\n",
    "            return self.data\n",
    "        def getNext(self):\n",
    "            return self.next\n",
    "        def setNext(self, nextelement):\n",
    "            self.next = nextelement\n",
    "\n",
    "    def __init__(self):\n",
    "        self.head = None\n",
    "        self.last = None\n",
    "\n",
    "    def addelement(self, new):\n",
    "        temp = self.Element(new)\n",
    "        if self.head == None:\n",
    "            self.head = temp\n",
    "            self.last = temp\n",
    "        else:\n",
    "            temp2 = self.last\n",
    "            self.last = temp\n",
    "            temp2.setNext(temp)\n",
    "\n",
    "    def search(self, scan):\n",
    "        x = self.head\n",
    "        i = 0\n",
    "        while True:\n",
    "            if x.getData() == scan:\n",
    "                return\n",
    "                #return i\n",
    "            else:\n",
    "                x = x.getNext()\n",
    "                #i += 1"
   ]
  },
  {
   "cell_type": "code",
   "execution_count": 12,
   "metadata": {
    "collapsed": true
   },
   "outputs": [],
   "source": [
    "#DRZEWO PRZESZUKIWAŃ BINARNYCH\n",
    "class Node:\n",
    "        def __init__(self, initdata):\n",
    "            self.data = initdata\n",
    "            self.left = None\n",
    "            self.right = None\n",
    "        def goRight(self):\n",
    "            return self.right\n",
    "        def goLeft(self):\n",
    "            return self.left\n",
    "class Bst:\n",
    "    def __init__(self):\n",
    "        self.root = None\n",
    "        self.size = 0\n",
    "\n",
    "    def insert(self, data):\n",
    "        node = Node(data)\n",
    "        if self.root == None:\n",
    "            self.root = node\n",
    "        else:\n",
    "            current = self.root\n",
    "            while 1 == 1:\n",
    "                if data <= current.data:\n",
    "                    if current.left != None:\n",
    "                        current = current.left\n",
    "                    else:\n",
    "                        current.left = Node(data)\n",
    "                        break\n",
    "                else:\n",
    "                    if current.right != None:\n",
    "                        current = current.right\n",
    "                    else:\n",
    "                        current.right = Node(data)\n",
    "                        break\n",
    "\n",
    "    def search(self, scan):\n",
    "        x = self.root\n",
    "        while True:\n",
    "            if x.data == scan:\n",
    "                return\n",
    "            elif scan > x.data:\n",
    "                x = x.right\n",
    "            elif scan < x.data:\n",
    "                x = x.left"
   ]
  },
  {
   "cell_type": "code",
   "execution_count": 13,
   "metadata": {
    "collapsed": true
   },
   "outputs": [],
   "source": [
    "#TWORZENIE TABLICY DO ZRÓWNOWAŻONEGO DRZEWA\n",
    "\n",
    "c = []\n",
    "def middleTabToTree(arr, left, right):\n",
    "    if right >= left:\n",
    "        middle = (left + right) // 2\n",
    "        C.append(arr[middle])\n",
    "        middleTabToTree(arr, left, middle - 1)\n",
    "        middleTabToTree(arr, middle + 1, right)\n",
    "    "
   ]
  },
  {
   "cell_type": "code",
   "execution_count": 14,
   "metadata": {
    "collapsed": true
   },
   "outputs": [],
   "source": [
    "#WYKRESIKI\n",
    "CB = []\n",
    "SsB = []\n",
    "SbB = []\n",
    "CL = []\n",
    "SL = []\n",
    "STR = []\n",
    "STB = []\n",
    "CTB = []\n",
    "CTR = []\n",
    "hTR = []\n",
    "hTB = []\n",
    "\n",
    "def fillData(wykres,typ):\n",
    "    czas=[]\n",
    "    ilosc=[]\n",
    "    \n",
    "    for i in range(len(wykres)):\n",
    "        czas.append(wykres[i][0])\n",
    "        ilosc.append(wykres[i][1])   \n",
    "    plt.plot(ilosc, czas, typ)"
   ]
  },
  {
   "cell_type": "code",
   "execution_count": 15,
   "metadata": {},
   "outputs": [
    {
     "name": "stdout",
     "output_type": "stream",
     "text": [
      "CB\t0.010041024227515493\t1000\n",
      "CB\t0.02124839763860544\t2000\n",
      "CB\t0.019432230732489182\t3000\n",
      "CB\t0.03938250325192047\t4000\n",
      "CB\t0.044227251187965735\t5000\n",
      "CB\t0.04576778361560696\t6000\n",
      "-------------------------------------\n",
      "SsB\t0.10530407580325737\t1000\n",
      "SsB\t0.36992412500212396\t2000\n",
      "SsB\t0.8575796649719553\t3000\n",
      "SsB\t1.266481148300789\t4000\n",
      "SsB\t2.002382161540684\t5000\n",
      "SsB\t2.304803402764274\t6000\n",
      "-------------------------------------\n",
      "SbB\t0.003298174204766191\t1000\n",
      "SbB\t0.007232195617411286\t2000\n",
      "SbB\t0.011702760309390214\t3000\n",
      "SbB\t0.018055946247501176\t4000\n",
      "SbB\t0.021021093589232542\t5000\n",
      "SbB\t0.025288519446389657\t6000\n",
      "-------------------------------------\n",
      "CL\t0.002794480513964359\t1000\n",
      "CL\t0.003167153432120706\t2000\n",
      "CL\t0.005040712722796492\t3000\n",
      "CL\t0.007261269391168668\t4000\n",
      "CL\t0.008653034716728847\t5000\n",
      "CL\t0.010388776768166963\t6000\n",
      "-------------------------------------\n",
      "SL\t0.2751356933434277\t1000\n",
      "SL\t1.1110776741736164\t2000\n",
      "SL\t2.657088809051384\t3000\n",
      "SL\t4.290662598855551\t4000\n",
      "SL\t6.800415717206576\t5000\n",
      "SL\t9.571721035252896\t6000\n",
      "-------------------------------------\n"
     ]
    }
   ],
   "source": [
    "#MIERZENIE CZASU KOPIOWANIA TABLICY\n",
    "for partdata in data:\n",
    "    start = clock()\n",
    "    coppyArray(partdata*1)\n",
    "    time = clock() - start\n",
    "    print(\"CB\\t{}\\t{}\".format(time,len(partdata)))\n",
    "    CB.append([time, len(partdata)])\n",
    "print(\"-------------------------------------\")\n",
    "\n",
    "\n",
    "#MIERZENIE CZASU PRZESZUKIWANIA TABLICY PO INDEKSACH\n",
    "for partdata in data:\n",
    "    sortedpartdata = sorted(partdata)\n",
    "    start = clock()\n",
    "    for x in range(len(partdata)):\n",
    "        arraysearch(partdata[x], sortedpartdata)\n",
    "    time = clock() - start\n",
    "    print(\"SsB\\t{}\\t{}\".format(time,len(partdata)))\n",
    "    SsB.append([time, len(partdata)])\n",
    "print(\"-------------------------------------\")   \n",
    "\n",
    "\n",
    "#MIERZENIE CZASU PRZESZUKIWANIA POŁÓWKOWEGO\n",
    "for partdata in data:\n",
    "    sortedpartdata = sorted(partdata)\n",
    "    start = clock()\n",
    "    for i in range(len(partdata)):\n",
    "        binarySearch(partdata[i], sortedpartdata)\n",
    "    time = clock() - start\n",
    "    print(\"SbB\\t{}\\t{}\".format(time,len(partdata)))\n",
    "    SbB.append([time, len(partdata)])\n",
    "print(\"-------------------------------------\")\n",
    "\n",
    "\n",
    "\n",
    "#MIERZENIE CZASU TWORZENIA LISTY\n",
    "\n",
    "for partdata in data:\n",
    "    L = Lista()\n",
    "    start = clock()\n",
    "    for i in range(len(partdata)):\n",
    "        L.addelement(partdata[i])\n",
    "    time = clock() - start\n",
    "    print(\"CL\\t{}\\t{}\".format(time,len(partdata)))\n",
    "    CL.append([time, len(partdata)])\n",
    "print(\"-------------------------------------\")  \n",
    "\n",
    "\n",
    "\n",
    "#MIERZENIE CZASU PRZESZUKIWANIA W LIŚCIE\n",
    "for partdata in data:\n",
    "    L = Lista()\n",
    "    for i in range(len(partdata)):\n",
    "        L.addelement(partdata[i])\n",
    "    start = clock()\n",
    "    for i in range(len(partdata)):\n",
    "        L.search(partdata[i])\n",
    "    time = clock() - start\n",
    "    print(\"SL\\t{}\\t{}\".format(time,len(partdata)))\n",
    "    SL.append([time, len(partdata)])\n",
    "print(\"-------------------------------------\") \n",
    "\n",
    "\n"
   ]
  },
  {
   "cell_type": "code",
   "execution_count": 16,
   "metadata": {},
   "outputs": [
    {
     "name": "stdout",
     "output_type": "stream",
     "text": [
      "CTR\t0.0057743535333116824\t1000\n",
      "CTR\t0.01173674264235558\t2000\n",
      "CTR\t0.01896554002646411\t3000\n",
      "CTR\t0.024068176111555317\t4000\n",
      "CTR\t0.03782460207631999\t5000\n",
      "CTR\t0.03934323477827206\t6000\n",
      "-------------------------------------\n",
      "CTB\t0.0049149780908379626\t1000\n",
      "CTB\t0.011518878129919585\t2000\n",
      "CTB\t0.01868537457026065\t3000\n",
      "CTB\t0.06996660291832768\t4000\n",
      "CTB\t0.03512413935021641\t5000\n",
      "CTB\t0.05834049164884192\t6000\n",
      "-------------------------------------\n",
      "STB\t0.01480534730887939\t1000\n",
      "STB\t0.008600550891372905\t2000\n",
      "STB\t0.013207800078163245\t3000\n",
      "STB\t0.017824488801878147\t4000\n",
      "STB\t0.02280554365125198\t5000\n",
      "STB\t0.02842433361588803\t6000\n",
      "-------------------------------------\n",
      "STR\t0.004905538553899191\t1000\n",
      "STR\t0.017773137720958232\t2000\n",
      "STR\t0.01938050207009212\t3000\n",
      "STR\t0.020180974802102014\t4000\n",
      "STR\t0.04124700058714126\t5000\n",
      "STR\t0.03927413736791863\t6000\n",
      "-------------------------------------\n"
     ]
    }
   ],
   "source": [
    "#CZAS TWORZENIA DRZEWA\n",
    "for partdata in data:\n",
    "    X = Bst()\n",
    "    start = clock()\n",
    "    for i in range(len(partdata)):\n",
    "        X.insert(partdata[i])\n",
    "    time = clock() - start\n",
    "    print(\"CTR\\t{}\\t{}\".format(time,len(partdata)))\n",
    "    CTR.append([time, len(partdata)])\n",
    "print(\"-------------------------------------\")\n",
    "\n",
    "\n",
    "#CZAS TWORZENIA DRZEWA ZRÓWNOWAŻONEGO\n",
    "\n",
    "for partdata in data:\n",
    "    BTree = Bst()\n",
    "    C = []\n",
    "    newTab = middleTabToTree(partdata, 0, len(partdata) - 1)\n",
    "    start = clock()\n",
    "    for i in range(len(C)):\n",
    "        BTree.insert(C[i])\n",
    "    #print(C)\n",
    "    time = clock() - start\n",
    "    print(\"CTB\\t{}\\t{}\".format(time,len(partdata)))\n",
    "    CTB.append([time, len(partdata)])\n",
    "print(\"-------------------------------------\")\n",
    "\n",
    "\n",
    "#MIERZENIE CZASU PRZESZUKIWANIA W DRZEWIE BINARNYM\n",
    "for partdata in data:\n",
    "    Timetree = Bst()\n",
    "    for i in range(len(partdata)):\n",
    "        Timetree.insert(partdata[i])\n",
    "    start = clock()\n",
    "    for i in range(len(partdata)):\n",
    "        Timetree.search(partdata[i])\n",
    "    time = clock() - start\n",
    "    print(\"STB\\t{}\\t{}\".format(time,len(partdata)))\n",
    "    STR.append([time, len(partdata)])\n",
    "print(\"-------------------------------------\") \n",
    "\n",
    "\n",
    "#MIERZENIE CZASU PRZESZUKIWANIA W DRZEWIE ZRÓWNOWAŻONYM\n",
    "for partdata in data:\n",
    "    BTree = Bst()\n",
    "    C = []\n",
    "    newTab = middleTabToTree(partdata, 0, len(partdata) - 1)\n",
    "    for i in range(len(partdata)):\n",
    "        BTree.insert(partdata[i])\n",
    "    start = clock()\n",
    "    for i in range(len(partdata)):\n",
    "        X.search(partdata[i])\n",
    "    time = clock() - start\n",
    "    print(\"STR\\t{}\\t{}\".format(time,len(partdata)))\n",
    "    STB.append([time, len(partdata)])\n",
    "print(\"-------------------------------------\") \n",
    "\n",
    "\n"
   ]
  },
  {
   "cell_type": "code",
   "execution_count": 17,
   "metadata": {},
   "outputs": [
    {
     "data": {
      "image/png": "[encoded data removed]",
      "text/plain": [
       "<matplotlib.figure.Figure at 0x18eb8a96c88>"
      ]
     },
     "metadata": {},
     "output_type": "display_data"
    }
   ],
   "source": [
    "#WYKRESIK PIERWSZZY\n",
    "fillData(CB, '.k-')\n",
    "fillData(CL, '.c-')\n",
    "fillData(CTR, '.m-')\n",
    "fillData(CTB, '.y-')\n",
    "\n",
    "plt.grid()\n",
    "plt.show()"
   ]
  },
  {
   "cell_type": "code",
   "execution_count": 18,
   "metadata": {},
   "outputs": [
    {
     "data": {
      "image/png": "[encoded data removed]",
      "text/plain": [
       "<matplotlib.figure.Figure at 0x18eb91d3630>"
      ]
     },
     "metadata": {},
     "output_type": "display_data"
    }
   ],
   "source": [
    "#WYKRESIK DRUGI\n",
    "fillData(SsB, '.k-')\n",
    "fillData(SbB, '.c-')\n",
    "fillData(STR, '.m-')\n",
    "fillData(STB, '.y-')\n",
    "fillData(SL, '.b-')\n",
    "\n",
    "plt.grid()\n",
    "plt.show()\n",
    "\n"
   ]
  },
  {
   "cell_type": "code",
   "execution_count": 19,
   "metadata": {},
   "outputs": [
    {
     "data": {
      "image/png": "[encoded data removed]",
      "text/plain": [
       "<matplotlib.figure.Figure at 0x18eb8b77e80>"
      ]
     },
     "metadata": {},
     "output_type": "display_data"
    }
   ],
   "source": [
    "#fillData(SsB, '.k-')\n",
    "fillData(SbB, '.c-')\n",
    "fillData(STR, '.m-')\n",
    "fillData(STB, '.y-')\n",
    "\n",
    "plt.grid()\n",
    "plt.show()\n"
   ]
  },
  {
   "cell_type": "code",
   "execution_count": 20,
   "metadata": {},
   "outputs": [
    {
     "name": "stdout",
     "output_type": "stream",
     "text": [
      "hTR\t22\t1000\n",
      "hTR\t22\t2000\n",
      "hTR\t26\t3000\n",
      "hTR\t27\t4000\n",
      "hTR\t29\t5000\n",
      "hTR\t27\t6000\n",
      "-------------------------\n",
      "hTB\t10\t1000\n",
      "hTB\t11\t2000\n",
      "hTB\t12\t3000\n",
      "hTB\t12\t4000\n",
      "hTB\t13\t5000\n",
      "hTB\t13\t6000\n",
      "-------------------------------------\n"
     ]
    }
   ],
   "source": [
    "#wysokość drzewa\n",
    "\n",
    "\n",
    "\n",
    "\n",
    "#DRZEWO PRZESZUKIWAŃ BINARNYCH\n",
    "class Node:\n",
    "    def __init__(self, initdata):\n",
    "        self.data = initdata\n",
    "        self.left = None\n",
    "        self.right = None\n",
    "\n",
    "    def goRight(self):\n",
    "        return self.right\n",
    "\n",
    "    def goLeft(self):\n",
    "        return self.left\n",
    "\n",
    "\n",
    "class Bst:\n",
    "    def __init__(self):\n",
    "        self.root = None\n",
    "        self.size = 0\n",
    "\n",
    "    def insert(self, data):\n",
    "        node = Node(data)\n",
    "        if self.root == None:\n",
    "            self.root = node\n",
    "\n",
    "        else:\n",
    "            current = self.root\n",
    "            while 1 == 1:\n",
    "                if data <= current.data:\n",
    "                    if current.left != None:\n",
    "                        current = current.left\n",
    "                    else:\n",
    "                        current.left = Node(data)\n",
    "                        break\n",
    "                else:\n",
    "                    if current.right != None:\n",
    "                        current = current.right\n",
    "                    else:\n",
    "                        current.right = Node(data)\n",
    "                        break\n",
    "\n",
    "    def search(self, scan):\n",
    "        x = self.root\n",
    "        while True:\n",
    "            if x.data == scan:\n",
    "                return\n",
    "            elif scan > x.data:\n",
    "                x = x.right\n",
    "            elif scan < x.data:\n",
    "                x = x.left\n",
    "                \n",
    "    def height(self):\n",
    "        return( height(self.root))\n",
    "                \n",
    "                \n",
    "def height(node):\n",
    "    if node is None:\n",
    "        return 0\n",
    "    else:\n",
    "        return 1 + max(height(node.left), height(node.right))\n",
    "                \n",
    "                \n",
    "             \n",
    "for partdata in data:\n",
    "    SearchHTR = Bst()\n",
    "    for i in range(len(partdata)):\n",
    "        SearchHTR.insert(partdata[i])\n",
    "    x = SearchHTR.height()\n",
    "    hTR.append([x, len(partdata)])\n",
    "    print(\"hTR\\t{}\\t{}\".format(x,len(partdata)))\n",
    "\n",
    "\n",
    "\n",
    "print(\"-------------------------\")\n",
    "\n",
    "\n",
    "\n",
    "for partdata in data:\n",
    "    SearchHTB = Bst()\n",
    "    C = []\n",
    "    newTab = middleTabToTree(sorted(partdata), 0, len(partdata) - 1)\n",
    "    for i in range(len(partdata)):\n",
    "        SearchHTB.insert(C[i])\n",
    "    x = (SearchHTB.height())\n",
    "    hTB.append([x, len(partdata)])\n",
    "    print(\"hTB\\t{}\\t{}\".format(x,len(partdata)))\n",
    "    \n",
    "print(\"-------------------------------------\") "
   ]
  },
  {
   "cell_type": "code",
   "execution_count": 21,
   "metadata": {},
   "outputs": [
    {
     "data": {
      "image/png": "[encoded data removed]",
      "text/plain": [
       "<matplotlib.figure.Figure at 0x18eb92a14e0>"
      ]
     },
     "metadata": {},
     "output_type": "display_data"
    }
   ],
   "source": [
    "fillData(hTR, '.k-')\n",
    "fillData(hTB, '.c-')\n",
    "\n",
    "\n",
    "plt.grid()\n",
    "plt.show()\n"
   ]
  },
  {
   "cell_type": "code",
   "execution_count": null,
   "metadata": {
    "collapsed": true
   },
   "outputs": [],
   "source": []
  },
  {
   "cell_type": "code",
   "execution_count": null,
   "metadata": {
    "collapsed": true
   },
   "outputs": [],
   "source": []
  },
  {
   "cell_type": "code",
   "execution_count": null,
   "metadata": {
    "collapsed": true
   },
   "outputs": [],
   "source": []
  },
  {
   "cell_type": "code",
   "execution_count": null,
   "metadata": {
    "collapsed": true
   },
   "outputs": [],
   "source": []
  },
  {
   "cell_type": "code",
   "execution_count": null,
   "metadata": {
    "collapsed": true
   },
   "outputs": [],
   "source": []
  },
  {
   "cell_type": "code",
   "execution_count": null,
   "metadata": {
    "collapsed": true
   },
   "outputs": [],
   "source": []
  },
  {
   "cell_type": "code",
   "execution_count": null,
   "metadata": {
    "collapsed": true
   },
   "outputs": [],
   "source": []
  },
  {
   "cell_type": "code",
   "execution_count": null,
   "metadata": {
    "collapsed": true
   },
   "outputs": [],
   "source": []
  }
 ],
 "metadata": {
  "kernelspec": {
   "display_name": "Python 3",
   "language": "python",
   "name": "python3"
  },
  "language_info": {
   "codemirror_mode": {
    "name": "ipython",
    "version": 3
   },
   "file_extension": ".py",
   "mimetype": "text/x-python",
   "name": "python",
   "nbconvert_exporter": "python",
   "pygments_lexer": "ipython3",
   "version": "3.6.3"
  },
  "widgets": {
   "application/vnd.jupyter.widget-state+json": {
    "state": {},
    "version_major": 2,
    "version_minor": 0
   }
  }
 },
 "nbformat": 4,
 "nbformat_minor": 2
}
