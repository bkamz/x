{
 "cells": [
  {
   "cell_type": "code",
   "execution_count": 1,
   "metadata": {
    "collapsed": true
   },
   "outputs": [],
   "source": [
    "from time import clock\n",
    "import matplotlib.pyplot as plt\n",
    "import random"
   ]
  },
  {
   "cell_type": "code",
   "execution_count": 2,
   "metadata": {
    "collapsed": true
   },
   "outputs": [],
   "source": [
    "#GENEROWANIE DANYCH\n",
    "data = []\n",
    "for value in range(2000,20001,2000):\n",
    "    data.append(random.sample(range(1, value + 1), value))"
   ]
  },
  {
   "cell_type": "code",
   "execution_count": 3,
   "metadata": {
    "collapsed": true
   },
   "outputs": [],
   "source": [
    "A = []\n",
    "B = []"
   ]
  },
  {
   "cell_type": "code",
   "execution_count": 4,
   "metadata": {
    "collapsed": true
   },
   "outputs": [],
   "source": [
    "#PRZESZUKIWANIE TABLICY PO INDEKSACH\n",
    "def arraysearch(scan, array):\n",
    "    i = 0\n",
    "    while scan != array[i]:\n",
    "        i += 1\n",
    "    return i"
   ]
  },
  {
   "cell_type": "code",
   "execution_count": 5,
   "metadata": {
    "collapsed": true
   },
   "outputs": [],
   "source": [
    "#KOPIOWANIE I SORTOWANIE TABLICY\n",
    "def coppyArray(array_to_copy):\n",
    "    B = array_to_copy*1\n",
    "    B = B.sort()\n",
    "    return B"
   ]
  },
  {
   "cell_type": "code",
   "execution_count": 6,
   "metadata": {
    "collapsed": true
   },
   "outputs": [],
   "source": [
    "#PRZESZUKIWANIE BINARNE\n",
    "def binarySearch(scan, array):\n",
    "    left = 0\n",
    "    right = len(array)\n",
    "    middle = right // 2\n",
    "    while scan != array[middle]:\n",
    "        middle = (left + right) // 2\n",
    "        if scan > array[middle]:\n",
    "            left = middle\n",
    "        elif scan < array[middle]:\n",
    "            right = middle\n",
    "    return middle"
   ]
  },
  {
   "cell_type": "code",
   "execution_count": 7,
   "metadata": {},
   "outputs": [],
   "source": [
    "#LISTA\n",
    "        \n",
    "class Lista:\n",
    "\n",
    "    class Element:\n",
    "        def __init__(self, initdata):\n",
    "            self.data = initdata\n",
    "            self.next = None\n",
    "        def getData(self):\n",
    "            return self.data\n",
    "        def getNext(self):\n",
    "            return self.next\n",
    "        def setNext(self, nextelement):\n",
    "            self.next = nextelement\n",
    "\n",
    "    def __init__(self):\n",
    "        self.head = None\n",
    "        self.last = None\n",
    "\n",
    "    def addelement(self, new):\n",
    "        temp = self.Element(new)\n",
    "        if self.head == None:\n",
    "            self.head = temp\n",
    "            self.last = temp\n",
    "        else:\n",
    "            temp2 = self.last\n",
    "            self.last = temp\n",
    "            temp2.setNext(temp)\n",
    "\n",
    "    def search(self, scan):\n",
    "        x = self.head\n",
    "        i = 0\n",
    "        while True:\n",
    "            if x.getData() == scan:\n",
    "                return\n",
    "                #return i\n",
    "            else:\n",
    "                x = x.getNext()\n",
    "                #i += 1"
   ]
  },
  {
   "cell_type": "code",
   "execution_count": 8,
   "metadata": {
    "collapsed": true
   },
   "outputs": [],
   "source": [
    "#DRZEWO PRZESZUKIWAŃ BINARNYCH\n",
    "class Node:\n",
    "        def __init__(self, initdata):\n",
    "            self.data = initdata\n",
    "            self.left = None\n",
    "            self.right = None\n",
    "        def goRight(self):\n",
    "            return self.right\n",
    "        def goLeft(self):\n",
    "            return self.left\n",
    "class Bst:\n",
    "    def __init__(self):\n",
    "        self.root = None\n",
    "        self.size = 0\n",
    "\n",
    "    def insert(self, data):\n",
    "        node = Node(data)\n",
    "        if self.root == None:\n",
    "            self.root = node\n",
    "        else:\n",
    "            current = self.root\n",
    "            while 1 == 1:\n",
    "                if data <= current.data:\n",
    "                    if current.left != None:\n",
    "                        current = current.left\n",
    "                    else:\n",
    "                        current.left = Node(data)\n",
    "                        break\n",
    "                else:\n",
    "                    if current.right != None:\n",
    "                        current = current.right\n",
    "                    else:\n",
    "                        current.right = Node(data)\n",
    "                        break\n",
    "\n",
    "    def search(self, scan):\n",
    "        x = self.root\n",
    "        while True:\n",
    "            if x.data == scan:\n",
    "                return\n",
    "            elif scan > x.data:\n",
    "                x = x.right\n",
    "            elif scan < x.data:\n",
    "                x = x.left"
   ]
  },
  {
   "cell_type": "code",
   "execution_count": 9,
   "metadata": {
    "collapsed": true
   },
   "outputs": [],
   "source": [
    "#TWORZENIE TABLICY DO ZRÓWNOWAŻONEGO DRZEWA\n",
    "\n",
    "c = []\n",
    "def middleTabToTree(arr, left, right):\n",
    "    if right >= left:\n",
    "        middle = (left + right) // 2\n",
    "        C.append(arr[middle])\n",
    "        middleTabToTree(arr, left, middle - 1)\n",
    "        middleTabToTree(arr, middle + 1, right)\n",
    "    "
   ]
  },
  {
   "cell_type": "code",
   "execution_count": 10,
   "metadata": {
    "collapsed": true
   },
   "outputs": [],
   "source": [
    "#WYKRESIKI\n",
    "CB = []\n",
    "SsB = []\n",
    "SbB = []\n",
    "CL = []\n",
    "SL = []\n",
    "STR = []\n",
    "STB = []\n",
    "CTB = []\n",
    "CTR = []\n",
    "\n",
    "def fillData(wykres,typ):\n",
    "    czas=[]\n",
    "    ilosc=[]\n",
    "    \n",
    "    for i in range(len(wykres)):\n",
    "        czas.append(wykres[i][0])\n",
    "        ilosc.append(wykres[i][1])   \n",
    "    plt.plot(ilosc, czas, typ)"
   ]
  },
  {
   "cell_type": "code",
   "execution_count": 11,
   "metadata": {},
   "outputs": [
    {
     "name": "stdout",
     "output_type": "stream",
     "text": [
      "CB\t0.001258856645528397\t2000\n",
      "CB\t0.00230777798964294\t4000\n",
      "CB\t0.003853596557967252\t6000\n",
      "CB\t0.007632809564893985\t8000\n",
      "CB\t0.008174261403432592\t10000\n",
      "CB\t0.00852578975885759\t12000\n",
      "CB\t0.012871752563306256\t14000\n",
      "CB\t0.011689544957682554\t16000\n",
      "CB\t0.013806644301257151\t18000\n",
      "CB\t0.018396902321559716\t20000\n",
      "-------------------------------------\n",
      "SsB\t0.3672127124131799\t2000\n",
      "SsB\t1.560295797329366\t4000\n"
     ]
    },
    {
     "ename": "KeyboardInterrupt",
     "evalue": "",
     "output_type": "error",
     "traceback": [
      "\u001b[1;31m---------------------------------------------------------------------------\u001b[0m",
      "\u001b[1;31mKeyboardInterrupt\u001b[0m                         Traceback (most recent call last)",
      "\u001b[1;32m<ipython-input-11-5bccf527c128>\u001b[0m in \u001b[0;36m<module>\u001b[1;34m()\u001b[0m\n\u001b[0;32m     14\u001b[0m     \u001b[0mstart\u001b[0m \u001b[1;33m=\u001b[0m \u001b[0mclock\u001b[0m\u001b[1;33m(\u001b[0m\u001b[1;33m)\u001b[0m\u001b[1;33m\u001b[0m\u001b[0m\n\u001b[0;32m     15\u001b[0m     \u001b[1;32mfor\u001b[0m \u001b[0mx\u001b[0m \u001b[1;32min\u001b[0m \u001b[0mrange\u001b[0m\u001b[1;33m(\u001b[0m\u001b[0mlen\u001b[0m\u001b[1;33m(\u001b[0m\u001b[0mpartdata\u001b[0m\u001b[1;33m)\u001b[0m\u001b[1;33m)\u001b[0m\u001b[1;33m:\u001b[0m\u001b[1;33m\u001b[0m\u001b[0m\n\u001b[1;32m---> 16\u001b[1;33m         \u001b[0marraysearch\u001b[0m\u001b[1;33m(\u001b[0m\u001b[0mpartdata\u001b[0m\u001b[1;33m[\u001b[0m\u001b[0mx\u001b[0m\u001b[1;33m]\u001b[0m\u001b[1;33m,\u001b[0m \u001b[0msortedpartdata\u001b[0m\u001b[1;33m)\u001b[0m\u001b[1;33m\u001b[0m\u001b[0m\n\u001b[0m\u001b[0;32m     17\u001b[0m     \u001b[0mtime\u001b[0m \u001b[1;33m=\u001b[0m \u001b[0mclock\u001b[0m\u001b[1;33m(\u001b[0m\u001b[1;33m)\u001b[0m \u001b[1;33m-\u001b[0m \u001b[0mstart\u001b[0m\u001b[1;33m\u001b[0m\u001b[0m\n\u001b[0;32m     18\u001b[0m     \u001b[0mprint\u001b[0m\u001b[1;33m(\u001b[0m\u001b[1;34m\"SsB\\t{}\\t{}\"\u001b[0m\u001b[1;33m.\u001b[0m\u001b[0mformat\u001b[0m\u001b[1;33m(\u001b[0m\u001b[0mtime\u001b[0m\u001b[1;33m,\u001b[0m\u001b[0mlen\u001b[0m\u001b[1;33m(\u001b[0m\u001b[0mpartdata\u001b[0m\u001b[1;33m)\u001b[0m\u001b[1;33m)\u001b[0m\u001b[1;33m)\u001b[0m\u001b[1;33m\u001b[0m\u001b[0m\n",
      "\u001b[1;32m<ipython-input-4-250026b04f25>\u001b[0m in \u001b[0;36marraysearch\u001b[1;34m(scan, array)\u001b[0m\n\u001b[0;32m      3\u001b[0m     \u001b[0mi\u001b[0m \u001b[1;33m=\u001b[0m \u001b[1;36m0\u001b[0m\u001b[1;33m\u001b[0m\u001b[0m\n\u001b[0;32m      4\u001b[0m     \u001b[1;32mwhile\u001b[0m \u001b[0mscan\u001b[0m \u001b[1;33m!=\u001b[0m \u001b[0marray\u001b[0m\u001b[1;33m[\u001b[0m\u001b[0mi\u001b[0m\u001b[1;33m]\u001b[0m\u001b[1;33m:\u001b[0m\u001b[1;33m\u001b[0m\u001b[0m\n\u001b[1;32m----> 5\u001b[1;33m         \u001b[0mi\u001b[0m \u001b[1;33m+=\u001b[0m \u001b[1;36m1\u001b[0m\u001b[1;33m\u001b[0m\u001b[0m\n\u001b[0m\u001b[0;32m      6\u001b[0m     \u001b[1;32mreturn\u001b[0m \u001b[0mi\u001b[0m\u001b[1;33m\u001b[0m\u001b[0m\n",
      "\u001b[1;31mKeyboardInterrupt\u001b[0m: "
     ]
    }
   ],
   "source": [
    "#MIERZENIE CZASU KOPIOWANIA TABLICY\n",
    "for partdata in data:\n",
    "    start = clock()\n",
    "    coppyArray(partdata*1)\n",
    "    time = clock() - start\n",
    "    print(\"CB\\t{}\\t{}\".format(time,len(partdata)))\n",
    "    CB.append([time, len(partdata)])\n",
    "print(\"-------------------------------------\")\n",
    "\n",
    "\n",
    "#MIERZENIE CZASU PRZESZUKIWANIA TABLICY PO INDEKSACH\n",
    "for partdata in data:\n",
    "    sortedpartdata = sorted(partdata)\n",
    "    start = clock()\n",
    "    for x in range(len(partdata)):\n",
    "        arraysearch(partdata[x], sortedpartdata)\n",
    "    time = clock() - start\n",
    "    print(\"SsB\\t{}\\t{}\".format(time,len(partdata)))\n",
    "    SsB.append([time, len(partdata)])\n",
    "print(\"-------------------------------------\")   \n",
    "\n",
    "\n",
    "#MIERZENIE CZASU PRZESZUKIWANIA POŁÓWKOWEGO\n",
    "for partdata in data:\n",
    "    sortedpartdata = sorted(partdata)\n",
    "    start = clock()\n",
    "    for i in range(len(partdata)):\n",
    "        binarySearch(partdata[i], sortedpartdata)\n",
    "    time = clock() - start\n",
    "    print(\"SbB\\t{}\\t{}\".format(time,len(partdata)))\n",
    "    SbB.append([time, len(partdata)])\n",
    "print(\"-------------------------------------\")\n",
    "\n",
    "\n",
    "\n",
    "#MIERZENIE CZASU TWORZENIA LISTY\n",
    "L = Lista()\n",
    "for partdata in data:\n",
    "    start = clock()\n",
    "    for i in range(len(partdata)):\n",
    "        L.addelement(partdata[i])\n",
    "    time = clock() - start\n",
    "    print(\"CL\\t{}\\t{}\".format(time,len(partdata)))\n",
    "    CL.append([time, len(partdata)])\n",
    "print(\"-------------------------------------\")  \n",
    "\n",
    "\n",
    "\n",
    "#MIERZENIE CZASU PRZESZUKIWANIA W LIŚCIE\n",
    "for partdata in data:\n",
    "    start = clock()\n",
    "    for i in range(len(partdata)):\n",
    "        L.search(partdata[i])\n",
    "    time = clock() - start\n",
    "    print(\"SL\\t{}\\t{}\".format(time,len(partdata)))\n",
    "    SL.append([time, len(partdata)])\n",
    "print(\"-------------------------------------\") \n",
    "\n",
    "\n"
   ]
  },
  {
   "cell_type": "code",
   "execution_count": null,
   "metadata": {
    "collapsed": true
   },
   "outputs": [],
   "source": []
  },
  {
   "cell_type": "code",
   "execution_count": null,
   "metadata": {},
   "outputs": [],
   "source": [
    "#CZAS TWORZENIA DRZEWA\n",
    "X = Bst()\n",
    "for partdata in data:\n",
    "    start = clock()\n",
    "    for i in range(len(partdata)):\n",
    "        X.insert(partdata[i])\n",
    "    time = clock() - start\n",
    "    print(\"CTR\\t{}\\t{}\".format(time,len(partdata)))\n",
    "    CTR.append([time, len(partdata)])\n",
    "print(\"-------------------------------------\")\n",
    "\n",
    "\n",
    "#CZAS TWORZENIA DRZEWA ZRÓWNOWAŻONEGO\n",
    "BTree = Bst()\n",
    "for partdata in data:\n",
    "    C = []\n",
    "    newTab = middleTabToTree(partdata, 0, len(partdata) - 1)\n",
    "    start = clock()\n",
    "    for i in range(len(C)):\n",
    "        BTree.insert(C[i])\n",
    "    #print(C)\n",
    "    time = clock() - start\n",
    "    print(\"CTB\\t{}\\t{}\".format(time,len(partdata)))\n",
    "    CTB.append([time, len(partdata)])\n",
    "print(\"-------------------------------------\")\n",
    "\n",
    "\n",
    "#MIERZENIE CZASU PRZESZUKIWANIA W DRZEWIE\n",
    "for partata in data:\n",
    "    C = []\n",
    "    newTab = middleTabToTree(partdata, 0, len(partdata) - 1)\n",
    "    for i in range(len(partdata)):\n",
    "        BTree.insert(partdata[i])\n",
    "    start = clock()\n",
    "    for i in range(len(partdata)):\n",
    "        X.search(partdata[i])\n",
    "    time = clock() - start\n",
    "    print(\"STR\\t{}\\t{}\".format(time,len(partdata)))\n",
    "    STR.append([time, len(partdata)])\n",
    "print(\"-------------------------------------\") \n",
    "\n",
    "\n",
    "#MIERZENIE CZASU PRZESZUKIWANIA W DRZEWIE BINARNYM\n",
    "for partata in data:\n",
    "    Timetree = Bst()\n",
    "    for i in range(len(partdata)):\n",
    "        Timetree.insert(partdata[i])\n",
    "    start = clock()\n",
    "    for i in range(len(partdata)):\n",
    "        Timetree.search(partdata[i])\n",
    "    time = clock() - start\n",
    "    print(\"STB\\t{}\\t{}\".format(time,len(partdata)))\n",
    "    STB.append([time, len(partdata)])\n",
    "print(\"-------------------------------------\") "
   ]
  },
  {
   "cell_type": "code",
   "execution_count": null,
   "metadata": {},
   "outputs": [],
   "source": [
    "#WYKRESIK PIERWSZZY\n",
    "fillData(CB, '.k-')\n",
    "fillData(CL, '.c-')\n",
    "fillData(CTR, '.m-')\n",
    "fillData(CTB, '.y-')\n",
    "\n",
    "plt.grid()\n",
    "plt.show()"
   ]
  },
  {
   "cell_type": "code",
   "execution_count": null,
   "metadata": {},
   "outputs": [],
   "source": [
    "#WYKRESIK DRUGI\n",
    "fillData(SsB, '.k-')\n",
    "fillData(SbB, '.c-')\n",
    "fillData(STR, '.m-')\n",
    "fillData(STB, '.y-')\n",
    "fillData(SL, '.b-')\n",
    "\n",
    "plt.grid()\n",
    "plt.show()\n",
    "\n"
   ]
  },
  {
   "cell_type": "code",
   "execution_count": null,
   "metadata": {},
   "outputs": [],
   "source": []
  },
  {
   "cell_type": "code",
   "execution_count": null,
   "metadata": {
    "collapsed": true
   },
   "outputs": [],
   "source": []
  }
 ],
 "metadata": {
  "kernelspec": {
   "display_name": "Python 3",
   "language": "python",
   "name": "python3"
  },
  "language_info": {
   "codemirror_mode": {
    "name": "ipython",
    "version": 3
   },
   "file_extension": ".py",
   "mimetype": "text/x-python",
   "name": "python",
   "nbconvert_exporter": "python",
   "pygments_lexer": "ipython3",
   "version": "3.6.3"
  },
  "widgets": {
   "application/vnd.jupyter.widget-state+json": {
    "state": {},
    "version_major": 2,
    "version_minor": 0
   }
  }
 },
 "nbformat": 4,
 "nbformat_minor": 2
}
