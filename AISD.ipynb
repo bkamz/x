{
 "cells": [
  {
   "cell_type": "code",
   "execution_count": 109,
   "metadata": {
    "collapsed": true
   },
   "outputs": [],
   "source": [
    "from time import clock\n",
    "import matplotlib.pyplot as plt\n",
    "import random"
   ]
  },
  {
   "cell_type": "code",
   "execution_count": 120,
   "metadata": {},
   "outputs": [],
   "source": [
    "#GENEROWANIE DANYCH\n",
    "data = []\n",
    "for value in range(1000,6001,1000):\n",
    "    data.append(random.sample(range(1, value + 1), value))"
   ]
  },
  {
   "cell_type": "code",
   "execution_count": 121,
   "metadata": {
    "collapsed": true
   },
   "outputs": [],
   "source": [
    "A = []\n",
    "B = []"
   ]
  },
  {
   "cell_type": "code",
   "execution_count": 122,
   "metadata": {
    "collapsed": true
   },
   "outputs": [],
   "source": [
    "#PRZESZUKIWANIE TABLICY PO INDEKSACH\n",
    "def arraysearch(scan, array):\n",
    "    i = 0\n",
    "    while scan != array[i]:\n",
    "        i += 1\n",
    "    return i"
   ]
  },
  {
   "cell_type": "code",
   "execution_count": 123,
   "metadata": {
    "collapsed": true
   },
   "outputs": [],
   "source": [
    "#KOPIOWANIE I SORTOWANIE TABLICY\n",
    "def coppyArray(array_to_copy):\n",
    "    B = array_to_copy*1\n",
    "    B = B.sort()\n",
    "    return B"
   ]
  },
  {
   "cell_type": "code",
   "execution_count": 124,
   "metadata": {
    "collapsed": true
   },
   "outputs": [],
   "source": [
    "#PRZESZUKIWANIE BINARNE\n",
    "def binarySearch(scan, array):\n",
    "    left = 0\n",
    "    right = len(array)\n",
    "    middle = right // 2\n",
    "    while scan != array[middle]:\n",
    "        middle = (left + right) // 2\n",
    "        if scan > array[middle]:\n",
    "            left = middle\n",
    "        elif scan < array[middle]:\n",
    "            right = middle\n",
    "    return middle"
   ]
  },
  {
   "cell_type": "code",
   "execution_count": 125,
   "metadata": {
    "collapsed": true
   },
   "outputs": [],
   "source": [
    "#LISTA\n",
    "        \n",
    "class Lista:\n",
    "\n",
    "    class Element:\n",
    "        def __init__(self, initdata):\n",
    "            self.data = initdata\n",
    "            self.next = None\n",
    "        def getData(self):\n",
    "            return self.data\n",
    "        def getNext(self):\n",
    "            return self.next\n",
    "        def setNext(self, nextelement):\n",
    "            self.next = nextelement\n",
    "\n",
    "    def __init__(self):\n",
    "        self.head = None\n",
    "        self.last = None\n",
    "\n",
    "    def addelement(self, new):\n",
    "        temp = self.Element(new)\n",
    "        if self.head == None:\n",
    "            self.head = temp\n",
    "            self.last = temp\n",
    "        else:\n",
    "            temp2 = self.last\n",
    "            self.last = temp\n",
    "            temp2.setNext(temp)\n",
    "\n",
    "    def search(self, scan):\n",
    "        x = self.head\n",
    "        i = 0\n",
    "        while True:\n",
    "            if x.getData() == scan:\n",
    "                return\n",
    "                #return i\n",
    "            else:\n",
    "                x = x.getNext()\n",
    "                #i += 1"
   ]
  },
  {
   "cell_type": "code",
   "execution_count": 126,
   "metadata": {
    "collapsed": true
   },
   "outputs": [],
   "source": [
    "#DRZEWO PRZESZUKIWAŃ BINARNYCH\n",
    "class Node:\n",
    "        def __init__(self, initdata):\n",
    "            self.data = initdata\n",
    "            self.left = None\n",
    "            self.right = None\n",
    "        def goRight(self):\n",
    "            return self.right\n",
    "        def goLeft(self):\n",
    "            return self.left\n",
    "class Bst:\n",
    "    def __init__(self):\n",
    "        self.root = None\n",
    "        self.size = 0\n",
    "\n",
    "    def insert(self, data):\n",
    "        node = Node(data)\n",
    "        if self.root == None:\n",
    "            self.root = node\n",
    "        else:\n",
    "            current = self.root\n",
    "            while 1 == 1:\n",
    "                if data <= current.data:\n",
    "                    if current.left != None:\n",
    "                        current = current.left\n",
    "                    else:\n",
    "                        current.left = Node(data)\n",
    "                        break\n",
    "                else:\n",
    "                    if current.right != None:\n",
    "                        current = current.right\n",
    "                    else:\n",
    "                        current.right = Node(data)\n",
    "                        break\n",
    "\n",
    "    def search(self, scan):\n",
    "        x = self.root\n",
    "        while True:\n",
    "            if x.data == scan:\n",
    "                return\n",
    "            elif scan > x.data:\n",
    "                x = x.right\n",
    "            elif scan < x.data:\n",
    "                x = x.left"
   ]
  },
  {
   "cell_type": "code",
   "execution_count": 127,
   "metadata": {
    "collapsed": true
   },
   "outputs": [],
   "source": [
    "#TWORZENIE TABLICY DO ZRÓWNOWAŻONEGO DRZEWA\n",
    "\n",
    "c = []\n",
    "def middleTabToTree(arr, left, right):\n",
    "    if right >= left:\n",
    "        middle = (left + right) // 2\n",
    "        C.append(arr[middle])\n",
    "        middleTabToTree(arr, left, middle - 1)\n",
    "        middleTabToTree(arr, middle + 1, right)\n",
    "    "
   ]
  },
  {
   "cell_type": "code",
   "execution_count": 128,
   "metadata": {
    "collapsed": true
   },
   "outputs": [],
   "source": [
    "#WYKRESIKI\n",
    "CB = []\n",
    "SsB = []\n",
    "SbB = []\n",
    "CL = []\n",
    "SL = []\n",
    "STR = []\n",
    "STB = []\n",
    "CTB = []\n",
    "CTR = []\n",
    "hTR = []\n",
    "hTB = []\n",
    "\n",
    "def fillData(wykres,typ):\n",
    "    czas=[]\n",
    "    ilosc=[]\n",
    "    \n",
    "    for i in range(len(wykres)):\n",
    "        czas.append(wykres[i][0])\n",
    "        ilosc.append(wykres[i][1])   \n",
    "    plt.plot(ilosc, czas, typ)"
   ]
  },
  {
   "cell_type": "code",
   "execution_count": 129,
   "metadata": {},
   "outputs": [
    {
     "name": "stdout",
     "output_type": "stream",
     "text": [
      "CB\t0.0004814163836499574\t1000\n",
      "CB\t0.0015933938344687704\t2000\n",
      "CB\t0.0027042385407867187\t3000\n",
      "CB\t0.0026098431715126935\t4000\n",
      "CB\t0.0032804278753246763\t5000\n",
      "CB\t0.004265160368277066\t6000\n",
      "-------------------------------------\n",
      "SsB\t0.0868531793304328\t1000\n",
      "SsB\t0.526284013011491\t2000\n",
      "SsB\t1.0157100325286592\t3000\n",
      "SsB\t1.3343336725273502\t4000\n",
      "SsB\t1.9434454687390144\t5000\n",
      "SsB\t2.5434382946909864\t6000\n",
      "-------------------------------------\n",
      "SbB\t0.004212676543033922\t1000\n",
      "SbB\t0.011317249621015435\t2000\n",
      "SbB\t0.014871801648951077\t3000\n",
      "SbB\t0.017941161478347567\t4000\n",
      "SbB\t0.020516644735494083\t5000\n",
      "SbB\t0.025221687524890513\t6000\n",
      "-------------------------------------\n",
      "CL\t0.0032747641531614136\t1000\n",
      "CL\t0.003710493178004981\t2000\n",
      "CL\t0.06709434062008768\t3000\n",
      "CL\t0.01163592838781824\t4000\n",
      "CL\t0.013703186976499637\t5000\n",
      "CL\t0.015390976180242433\t6000\n",
      "-------------------------------------\n",
      "SL\t0.3453277124037868\t1000\n",
      "SL\t1.374407905045814\t2000\n",
      "SL\t2.6780657256077802\t3000\n",
      "SL\t4.743414884639492\t4000\n",
      "SL\t7.395490544415907\t5000\n",
      "SL\t10.48695210567746\t6000\n",
      "-------------------------------------\n"
     ]
    }
   ],
   "source": [
    "#MIERZENIE CZASU KOPIOWANIA TABLICY\n",
    "for partdata in data:\n",
    "    start = clock()\n",
    "    coppyArray(partdata*1)\n",
    "    time = clock() - start\n",
    "    print(\"CB\\t{}\\t{}\".format(time,len(partdata)))\n",
    "    CB.append([time, len(partdata)])\n",
    "print(\"-------------------------------------\")\n",
    "\n",
    "\n",
    "#MIERZENIE CZASU PRZESZUKIWANIA TABLICY PO INDEKSACH\n",
    "for partdata in data:\n",
    "    sortedpartdata = sorted(partdata)\n",
    "    start = clock()\n",
    "    for x in range(len(partdata)):\n",
    "        arraysearch(partdata[x], sortedpartdata)\n",
    "    time = clock() - start\n",
    "    print(\"SsB\\t{}\\t{}\".format(time,len(partdata)))\n",
    "    SsB.append([time, len(partdata)])\n",
    "print(\"-------------------------------------\")   \n",
    "\n",
    "\n",
    "#MIERZENIE CZASU PRZESZUKIWANIA POŁÓWKOWEGO\n",
    "for partdata in data:\n",
    "    sortedpartdata = sorted(partdata)\n",
    "    start = clock()\n",
    "    for i in range(len(partdata)):\n",
    "        binarySearch(partdata[i], sortedpartdata)\n",
    "    time = clock() - start\n",
    "    print(\"SbB\\t{}\\t{}\".format(time,len(partdata)))\n",
    "    SbB.append([time, len(partdata)])\n",
    "print(\"-------------------------------------\")\n",
    "\n",
    "\n",
    "\n",
    "#MIERZENIE CZASU TWORZENIA LISTY\n",
    "\n",
    "for partdata in data:\n",
    "    L = Lista()\n",
    "    start = clock()\n",
    "    for i in range(len(partdata)):\n",
    "        L.addelement(partdata[i])\n",
    "    time = clock() - start\n",
    "    print(\"CL\\t{}\\t{}\".format(time,len(partdata)))\n",
    "    CL.append([time, len(partdata)])\n",
    "print(\"-------------------------------------\")  \n",
    "\n",
    "\n",
    "\n",
    "#MIERZENIE CZASU PRZESZUKIWANIA W LIŚCIE\n",
    "for partdata in data:\n",
    "    L = Lista()\n",
    "    for i in range(len(partdata)):\n",
    "        L.addelement(partdata[i])\n",
    "    start = clock()\n",
    "    for i in range(len(partdata)):\n",
    "        L.search(partdata[i])\n",
    "    time = clock() - start\n",
    "    print(\"SL\\t{}\\t{}\".format(time,len(partdata)))\n",
    "    SL.append([time, len(partdata)])\n",
    "print(\"-------------------------------------\") \n",
    "\n",
    "\n"
   ]
  },
  {
   "cell_type": "code",
   "execution_count": 130,
   "metadata": {},
   "outputs": [
    {
     "name": "stdout",
     "output_type": "stream",
     "text": [
      "CTR\t0.00611719751475448\t1000\n",
      "CTR\t0.018395014414181787\t2000\n",
      "CTR\t0.02268736064888799\t3000\n",
      "CTR\t0.036009567914675245\t4000\n",
      "CTR\t0.10773570051753723\t5000\n",
      "CTR\t0.046390793053205925\t6000\n",
      "-------------------------------------\n",
      "CTB\t0.005798896329338277\t1000\n",
      "CTB\t0.014704533054441526\t2000\n",
      "CTB\t0.02830086447283975\t3000\n",
      "CTB\t0.049541332900389534\t4000\n",
      "CTB\t0.04622465720319724\t5000\n",
      "CTB\t0.04028454540139137\t6000\n",
      "-------------------------------------\n",
      "STB\t0.0034635548918231507\t1000\n",
      "STB\t0.007275239905766284\t2000\n",
      "STB\t0.012458300845537451\t3000\n",
      "STB\t0.020324833344943727\t4000\n",
      "STB\t0.045538214077282646\t5000\n",
      "STB\t0.03371122946191463\t6000\n",
      "-------------------------------------\n",
      "STR\t0.0047930192736203026\t1000\n",
      "STR\t0.015227860982122365\t2000\n",
      "STR\t0.01617105951254416\t3000\n",
      "STR\t0.017894718956654287\t4000\n",
      "STR\t0.02199563138231042\t5000\n",
      "STR\t0.0418922873319616\t6000\n",
      "-------------------------------------\n"
     ]
    }
   ],
   "source": [
    "#CZAS TWORZENIA DRZEWA\n",
    "for partdata in data:\n",
    "    X = Bst()\n",
    "    start = clock()\n",
    "    for i in range(len(partdata)):\n",
    "        X.insert(partdata[i])\n",
    "    time = clock() - start\n",
    "    print(\"CTR\\t{}\\t{}\".format(time,len(partdata)))\n",
    "    CTR.append([time, len(partdata)])\n",
    "print(\"-------------------------------------\")\n",
    "\n",
    "\n",
    "#CZAS TWORZENIA DRZEWA ZRÓWNOWAŻONEGO\n",
    "\n",
    "for partdata in data:\n",
    "    BTree = Bst()\n",
    "    C = []\n",
    "    newTab = middleTabToTree(partdata, 0, len(partdata) - 1)\n",
    "    start = clock()\n",
    "    for i in range(len(C)):\n",
    "        BTree.insert(C[i])\n",
    "    #print(C)\n",
    "    time = clock() - start\n",
    "    print(\"CTB\\t{}\\t{}\".format(time,len(partdata)))\n",
    "    CTB.append([time, len(partdata)])\n",
    "print(\"-------------------------------------\")\n",
    "\n",
    "\n",
    "#MIERZENIE CZASU PRZESZUKIWANIA W DRZEWIE BINARNYM\n",
    "for partdata in data:\n",
    "    Timetree = Bst()\n",
    "    for i in range(len(partdata)):\n",
    "        Timetree.insert(partdata[i])\n",
    "    start = clock()\n",
    "    for i in range(len(partdata)):\n",
    "        Timetree.search(partdata[i])\n",
    "    time = clock() - start\n",
    "    print(\"STB\\t{}\\t{}\".format(time,len(partdata)))\n",
    "    STR.append([time, len(partdata)])\n",
    "print(\"-------------------------------------\") \n",
    "\n",
    "\n",
    "#MIERZENIE CZASU PRZESZUKIWANIA W DRZEWIE ZRÓWNOWAŻONYM\n",
    "for partdata in data:\n",
    "    BTree = Bst()\n",
    "    C = []\n",
    "    newTab = middleTabToTree(partdata, 0, len(partdata) - 1)\n",
    "    for i in range(len(partdata)):\n",
    "        BTree.insert(partdata[i])\n",
    "    start = clock()\n",
    "    for i in range(len(partdata)):\n",
    "        X.search(partdata[i])\n",
    "    time = clock() - start\n",
    "    print(\"STR\\t{}\\t{}\".format(time,len(partdata)))\n",
    "    STB.append([time, len(partdata)])\n",
    "print(\"-------------------------------------\") \n",
    "\n",
    "\n"
   ]
  },
  {
   "cell_type": "code",
   "execution_count": 131,
   "metadata": {},
   "outputs": [
    {
     "data": {
      "image/png": "[encoded data removed]",
      "text/plain": [
       "<matplotlib.figure.Figure at 0x1ce8c2a7828>"
      ]
     },
     "metadata": {},
     "output_type": "display_data"
    }
   ],
   "source": [
    "#WYKRESIK PIERWSZZY\n",
    "fillData(CB, '.k-')\n",
    "fillData(CL, '.c-')\n",
    "fillData(CTR, '.m-')\n",
    "fillData(CTB, '.y-')\n",
    "\n",
    "plt.grid()\n",
    "plt.show()"
   ]
  },
  {
   "cell_type": "code",
   "execution_count": 132,
   "metadata": {},
   "outputs": [
    {
     "data": {
      "image/png": "[encoded data removed]",
      "text/plain": [
       "<matplotlib.figure.Figure at 0x1ce8bd3afd0>"
      ]
     },
     "metadata": {},
     "output_type": "display_data"
    }
   ],
   "source": [
    "#WYKRESIK DRUGI\n",
    "fillData(SsB, '.k-')\n",
    "fillData(SbB, '.c-')\n",
    "fillData(STR, '.m-')\n",
    "fillData(STB, '.y-')\n",
    "fillData(SL, '.b-')\n",
    "\n",
    "plt.grid()\n",
    "plt.show()\n",
    "\n"
   ]
  },
  {
   "cell_type": "code",
   "execution_count": 133,
   "metadata": {},
   "outputs": [
    {
     "data": {
      "image/png": "[encoded data removed]",
      "text/plain": [
       "<matplotlib.figure.Figure at 0x1ce8bd3a2b0>"
      ]
     },
     "metadata": {},
     "output_type": "display_data"
    }
   ],
   "source": [
    "#fillData(SsB, '.k-')\n",
    "fillData(SbB, '.c-')\n",
    "fillData(STR, '.m-')\n",
    "fillData(STB, '.y-')\n",
    "\n",
    "plt.grid()\n",
    "plt.show()\n"
   ]
  },
  {
   "cell_type": "code",
   "execution_count": 134,
   "metadata": {},
   "outputs": [
    {
     "name": "stdout",
     "output_type": "stream",
     "text": [
      "hTR\t21\t1000\n",
      "hTR\t23\t2000\n",
      "hTR\t30\t3000\n",
      "hTR\t28\t4000\n",
      "hTR\t30\t5000\n",
      "hTR\t26\t6000\n",
      "-------------------------\n",
      "hTB\t10\t1000\n",
      "hTB\t11\t2000\n",
      "hTB\t12\t3000\n",
      "hTB\t12\t4000\n",
      "hTB\t13\t5000\n",
      "hTB\t13\t6000\n",
      "-------------------------------------\n"
     ]
    }
   ],
   "source": [
    "#wysokość drzewa\n",
    "\n",
    "\n",
    "\n",
    "\n",
    "#DRZEWO PRZESZUKIWAŃ BINARNYCH\n",
    "class Node:\n",
    "    def __init__(self, initdata):\n",
    "        self.data = initdata\n",
    "        self.left = None\n",
    "        self.right = None\n",
    "\n",
    "    def goRight(self):\n",
    "        return self.right\n",
    "\n",
    "    def goLeft(self):\n",
    "        return self.left\n",
    "\n",
    "\n",
    "class Bst:\n",
    "    def __init__(self):\n",
    "        self.root = None\n",
    "        self.size = 0\n",
    "\n",
    "    def insert(self, data):\n",
    "        node = Node(data)\n",
    "        if self.root == None:\n",
    "            self.root = node\n",
    "\n",
    "        else:\n",
    "            current = self.root\n",
    "            while 1 == 1:\n",
    "                if data <= current.data:\n",
    "                    if current.left != None:\n",
    "                        current = current.left\n",
    "                    else:\n",
    "                        current.left = Node(data)\n",
    "                        break\n",
    "                else:\n",
    "                    if current.right != None:\n",
    "                        current = current.right\n",
    "                    else:\n",
    "                        current.right = Node(data)\n",
    "                        break\n",
    "\n",
    "    def search(self, scan):\n",
    "        x = self.root\n",
    "        while True:\n",
    "            if x.data == scan:\n",
    "                return\n",
    "            elif scan > x.data:\n",
    "                x = x.right\n",
    "            elif scan < x.data:\n",
    "                x = x.left\n",
    "                \n",
    "    def height(self):\n",
    "        return( height(self.root))\n",
    "                \n",
    "                \n",
    "def height(node):\n",
    "    if node is None:\n",
    "        return 0\n",
    "    else:\n",
    "        return 1 + max(height(node.left), height(node.right))\n",
    "                \n",
    "                \n",
    "             \n",
    "for partdata in data:\n",
    "    SearchHTR = Bst()\n",
    "    for i in range(len(partdata)):\n",
    "        SearchHTR.insert(partdata[i])\n",
    "    x = SearchHTR.height()\n",
    "    hTR.append([x, len(partdata)])\n",
    "    print(\"hTR\\t{}\\t{}\".format(x,len(partdata)))\n",
    "\n",
    "\n",
    "\n",
    "print(\"-------------------------\")\n",
    "\n",
    "\n",
    "\n",
    "for partdata in data:\n",
    "    SearchHTB = Bst()\n",
    "    C = []\n",
    "    newTab = middleTabToTree(sorted(partdata), 0, len(partdata) - 1)\n",
    "    for i in range(len(partdata)):\n",
    "        SearchHTB.insert(C[i])\n",
    "    x = (SearchHTB.height())\n",
    "    hTB.append([x, len(partdata)])\n",
    "    print(\"hTB\\t{}\\t{}\".format(x,len(partdata)))\n",
    "    \n",
    "print(\"-------------------------------------\") "
   ]
  },
  {
   "cell_type": "code",
   "execution_count": 135,
   "metadata": {},
   "outputs": [
    {
     "data": {
      "image/png": "[encoded data removed]",
      "text/plain": [
       "<matplotlib.figure.Figure at 0x1ce8be98b38>"
      ]
     },
     "metadata": {},
     "output_type": "display_data"
    }
   ],
   "source": [
    "fillData(hTR, '.k-')\n",
    "fillData(hTB, '.c-')\n",
    "\n",
    "\n",
    "plt.grid()\n",
    "plt.show()\n"
   ]
  },
  {
   "cell_type": "code",
   "execution_count": null,
   "metadata": {
    "collapsed": true
   },
   "outputs": [],
   "source": []
  },
  {
   "cell_type": "code",
   "execution_count": null,
   "metadata": {
    "collapsed": true
   },
   "outputs": [],
   "source": []
  },
  {
   "cell_type": "code",
   "execution_count": null,
   "metadata": {
    "collapsed": true
   },
   "outputs": [],
   "source": []
  },
  {
   "cell_type": "code",
   "execution_count": null,
   "metadata": {
    "collapsed": true
   },
   "outputs": [],
   "source": []
  },
  {
   "cell_type": "code",
   "execution_count": null,
   "metadata": {
    "collapsed": true
   },
   "outputs": [],
   "source": []
  },
  {
   "cell_type": "code",
   "execution_count": null,
   "metadata": {
    "collapsed": true
   },
   "outputs": [],
   "source": []
  },
  {
   "cell_type": "code",
   "execution_count": null,
   "metadata": {
    "collapsed": true
   },
   "outputs": [],
   "source": []
  },
  {
   "cell_type": "code",
   "execution_count": null,
   "metadata": {
    "collapsed": true
   },
   "outputs": [],
   "source": []
  },
  {
   "cell_type": "code",
   "execution_count": null,
   "metadata": {
    "collapsed": true
   },
   "outputs": [],
   "source": []
  },
  {
   "cell_type": "code",
   "execution_count": null,
   "metadata": {
    "collapsed": true
   },
   "outputs": [],
   "source": []
  },
  {
   "cell_type": "code",
   "execution_count": null,
   "metadata": {
    "collapsed": true
   },
   "outputs": [],
   "source": []
  }
 ],
 "metadata": {
  "kernelspec": {
   "display_name": "Python 3",
   "language": "python",
   "name": "python3"
  },
  "language_info": {
   "codemirror_mode": {
    "name": "ipython",
    "version": 3
   },
   "file_extension": ".py",
   "mimetype": "text/x-python",
   "name": "python",
   "nbconvert_exporter": "python",
   "pygments_lexer": "ipython3",
   "version": "3.6.3"
  },
  "widgets": {
   "application/vnd.jupyter.widget-state+json": {
    "state": {},
    "version_major": 2,
    "version_minor": 0
   }
  }
 },
 "nbformat": 4,
 "nbformat_minor": 2
}
